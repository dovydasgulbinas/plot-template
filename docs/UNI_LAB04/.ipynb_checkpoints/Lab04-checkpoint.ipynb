{
 "cells": [
  {
   "cell_type": "code",
   "execution_count": 1,
   "metadata": {
    "collapsed": false
   },
   "outputs": [
    {
     "data": {
      "text/plain": [
       "198"
      ]
     },
     "execution_count": 1,
     "metadata": {},
     "output_type": "execute_result"
    }
   ],
   "source": [
    "99+99"
   ]
  },
  {
   "cell_type": "code",
   "execution_count": 2,
   "metadata": {
    "collapsed": false
   },
   "outputs": [
    {
     "name": "stdout",
     "output_type": "stream",
     "text": [
      "Using matplotlib backend: Qt5Agg\n"
     ]
    }
   ],
   "source": [
    "# -*- coding: utf-8 -*-\n",
    "import pandas\n",
    "import matplotlib\n",
    "import matplotlib.pyplot as plt\n",
    "import numpy as np\n",
    "import matplotlib.animation as animation\n",
    "\n",
    "%matplotlib"
   ]
  },
  {
   "cell_type": "code",
   "execution_count": 3,
   "metadata": {
    "collapsed": false
   },
   "outputs": [],
   "source": [
    "# Usd=25.00E+0V\n",
    "transfer2 = pandas.read_csv('transfer-t2-g13-cleaned.csv', sep=',')\n",
    "\n",
    "# Usg=4.40E+0V Usg=4.47E+0V Usg=4.54E+0V Usg=4.62E+0V Usg=4.69E+0V Usg=4.76E+0V Usg=4.83E+0V\n",
    "output2 = pandas.read_csv('output-t2-g13-cleaned.csv', sep = ',')\n"
   ]
  },
  {
   "cell_type": "markdown",
   "metadata": {},
   "source": [
    "## Antrojo tranzistoriaus perdavimo/išėjimo charakteristikos"
   ]
  },
  {
   "cell_type": "code",
   "execution_count": 4,
   "metadata": {
    "collapsed": false
   },
   "outputs": [
    {
     "data": {
      "text/html": [
       "<div>\n",
       "<table border=\"1\" class=\"dataframe\">\n",
       "  <thead>\n",
       "    <tr style=\"text-align: right;\">\n",
       "      <th></th>\n",
       "      <th>Usg (V)</th>\n",
       "      <th>Isd (I)</th>\n",
       "    </tr>\n",
       "  </thead>\n",
       "  <tbody>\n",
       "    <tr>\n",
       "      <th>0</th>\n",
       "      <td>4.00000</td>\n",
       "      <td>0.000056</td>\n",
       "    </tr>\n",
       "    <tr>\n",
       "      <th>1</th>\n",
       "      <td>4.00838</td>\n",
       "      <td>0.000060</td>\n",
       "    </tr>\n",
       "    <tr>\n",
       "      <th>2</th>\n",
       "      <td>4.01677</td>\n",
       "      <td>0.000065</td>\n",
       "    </tr>\n",
       "    <tr>\n",
       "      <th>3</th>\n",
       "      <td>4.02515</td>\n",
       "      <td>0.000069</td>\n",
       "    </tr>\n",
       "    <tr>\n",
       "      <th>4</th>\n",
       "      <td>4.03354</td>\n",
       "      <td>0.000074</td>\n",
       "    </tr>\n",
       "  </tbody>\n",
       "</table>\n",
       "</div>"
      ],
      "text/plain": [
       "   Usg (V)   Isd (I)\n",
       "0  4.00000  0.000056\n",
       "1  4.00838  0.000060\n",
       "2  4.01677  0.000065\n",
       "3  4.02515  0.000069\n",
       "4  4.03354  0.000074"
      ]
     },
     "execution_count": 4,
     "metadata": {},
     "output_type": "execute_result"
    }
   ],
   "source": [
    "transfer2.head()"
   ]
  },
  {
   "cell_type": "markdown",
   "metadata": {},
   "source": [
    "# II -- trojo tranzistoriaus perdavimo kreivės"
   ]
  },
  {
   "cell_type": "code",
   "execution_count": 19,
   "metadata": {
    "collapsed": false
   },
   "outputs": [
    {
     "data": {
      "text/html": [
       "<div>\n",
       "<table border=\"1\" class=\"dataframe\">\n",
       "  <thead>\n",
       "    <tr style=\"text-align: right;\">\n",
       "      <th></th>\n",
       "      <th>Usd (V)</th>\n",
       "      <th>Isd1 (A)</th>\n",
       "      <th>Isd2 (A)</th>\n",
       "      <th>Isd3 (A)</th>\n",
       "      <th>Isd4 (A)</th>\n",
       "      <th>Isd5 (A)</th>\n",
       "      <th>Isd6 (A)</th>\n",
       "      <th>Isd7 (A)</th>\n",
       "    </tr>\n",
       "  </thead>\n",
       "  <tbody>\n",
       "    <tr>\n",
       "      <th>0</th>\n",
       "      <td>0.000000</td>\n",
       "      <td>0.000002</td>\n",
       "      <td>0.000002</td>\n",
       "      <td>0.000003</td>\n",
       "      <td>0.000003</td>\n",
       "      <td>0.000004</td>\n",
       "      <td>0.000002</td>\n",
       "      <td>0.000002</td>\n",
       "    </tr>\n",
       "    <tr>\n",
       "      <th>1</th>\n",
       "      <td>0.012626</td>\n",
       "      <td>0.000303</td>\n",
       "      <td>0.000449</td>\n",
       "      <td>0.000620</td>\n",
       "      <td>0.000793</td>\n",
       "      <td>0.000002</td>\n",
       "      <td>0.000003</td>\n",
       "      <td>0.000002</td>\n",
       "    </tr>\n",
       "    <tr>\n",
       "      <th>2</th>\n",
       "      <td>0.025253</td>\n",
       "      <td>0.000532</td>\n",
       "      <td>0.000811</td>\n",
       "      <td>0.001158</td>\n",
       "      <td>0.001522</td>\n",
       "      <td>0.001853</td>\n",
       "      <td>0.002116</td>\n",
       "      <td>0.002301</td>\n",
       "    </tr>\n",
       "    <tr>\n",
       "      <th>3</th>\n",
       "      <td>0.037879</td>\n",
       "      <td>0.000700</td>\n",
       "      <td>0.001098</td>\n",
       "      <td>0.001615</td>\n",
       "      <td>0.002184</td>\n",
       "      <td>0.002712</td>\n",
       "      <td>0.003134</td>\n",
       "      <td>0.003427</td>\n",
       "    </tr>\n",
       "    <tr>\n",
       "      <th>4</th>\n",
       "      <td>0.050505</td>\n",
       "      <td>0.000821</td>\n",
       "      <td>0.001316</td>\n",
       "      <td>0.001992</td>\n",
       "      <td>0.002774</td>\n",
       "      <td>0.003523</td>\n",
       "      <td>0.004123</td>\n",
       "      <td>0.004536</td>\n",
       "    </tr>\n",
       "  </tbody>\n",
       "</table>\n",
       "</div>"
      ],
      "text/plain": [
       "   Usd (V)   Isd1 (A)  Isd2 (A)  Isd3 (A)  Isd4 (A)  Isd5 (A)  Isd6 (A)  \\\n",
       "0  0.000000  0.000002  0.000002  0.000003  0.000003  0.000004  0.000002   \n",
       "1  0.012626  0.000303  0.000449  0.000620  0.000793  0.000002  0.000003   \n",
       "2  0.025253  0.000532  0.000811  0.001158  0.001522  0.001853  0.002116   \n",
       "3  0.037879  0.000700  0.001098  0.001615  0.002184  0.002712  0.003134   \n",
       "4  0.050505  0.000821  0.001316  0.001992  0.002774  0.003523  0.004123   \n",
       "\n",
       "   Isd7 (A)  \n",
       "0  0.000002  \n",
       "1  0.000002  \n",
       "2  0.002301  \n",
       "3  0.003427  \n",
       "4  0.004536  "
      ]
     },
     "execution_count": 19,
     "metadata": {},
     "output_type": "execute_result"
    }
   ],
   "source": [
    "output2.head(5)"
   ]
  },
  {
   "cell_type": "code",
   "execution_count": 38,
   "metadata": {
    "collapsed": false
   },
   "outputs": [],
   "source": [
    "\n",
    "fig = plt.figure()\n",
    "\n",
    "# Allows to render graph data in latex\n",
    "plt.rc('text', usetex=True)\n",
    "plt.rc('font', family='DejaVu Sans')\n",
    "\n",
    "# figure yra pats grafikas be duomenu axes yra kreives kurias piesiame\n",
    "axes = fig.add_subplot(111)\n",
    "axes.grid()\n",
    "axes.plot(transfer2['Usg (V)'],\n",
    "          transfer2['Isd (I)'],\n",
    "          color = \"blue\",\n",
    "          linestyle = \"-\",\n",
    "          linewidth = 2,\n",
    "          label='HOMO',\n",
    "          markersize = 9)\n",
    "\n",
    "\n",
    "axes.set_title('Perdavimo charakteristikos priklausomybe nuo itampos', fontsize=12)\n",
    "axes.set_ylabel(r'\\textit{Srove} (A)',fontsize=12)\n",
    "axes.set_xlabel(r'\\textit{Itampa} (V)',fontsize=12)\n",
    "\n",
    "plt.savefig('transfer-t1.png')\n"
   ]
  },
  {
   "cell_type": "code",
   "execution_count": 37,
   "metadata": {
    "collapsed": false
   },
   "outputs": [],
   "source": [
    "fig2 = plt.figure()\n",
    "\n",
    "#Allows to render graph data in latex\n",
    "plt.rc('text', usetex=True)\n",
    "plt.rc('font', family='DejaVu Sans')\n",
    "\n",
    "# figure yra pats grafikas be duomenu axes yra kreives kurias piesiame\n",
    "axes = fig2.add_subplot(111)\n",
    "axes.grid()\n",
    "\n",
    "\n",
    "x = output2[output2.columns[0]]\n",
    "y = output2[output2.columns[1]]\n",
    "title = 'Perdavimo charakteristiku priklausomybe nuo itampos'\n",
    "x_label = r'\\textit{Itampa} (V)'\n",
    "y_label = r'\\textit{Srove} (A)'\n",
    "\n",
    "\n",
    "for i in range(1, 8):\n",
    "    x = output2[output2.columns[0]]\n",
    "    y = output2[output2.columns[i]]\n",
    "    \n",
    "    axes.plot(x, y,linestyle = \"-\", linewidth = 2, label=str(8-i), markersize = 9)\n",
    "\n",
    "\n",
    "axes.legend(loc=2)\n",
    "axes.set_title(title, fontsize=12)\n",
    "axes.set_xlabel(x_label,fontsize=12)\n",
    "axes.set_ylabel(y_label,fontsize=12)\n",
    "\n",
    "plt.savefig('output-t2.png')"
   ]
  },
  {
   "cell_type": "code",
   "execution_count": 8,
   "metadata": {
    "collapsed": false
   },
   "outputs": [
    {
     "name": "stdout",
     "output_type": "stream",
     "text": [
      "[   1.38577 -200.       -12.598  ] [[ inf  inf  inf]\n",
      " [ inf  inf  inf]\n",
      " [ inf  inf  inf]]\n",
      "[0.028806400000000003, -3.6644499999999995, -0.83000000000000007]\n",
      "[  0.10230112 -38.04095321   7.68125496] [[  1.27436577e-06   5.63209762e-05  -1.51100891e-05]\n",
      " [  5.63209762e-05   3.07872238e-03  -7.91964518e-04]\n",
      " [ -1.51100891e-05  -7.91964518e-04   2.05316767e-04]]\n",
      "p0=[0.5, 0.5, 0.5] [  0.10230111 -38.04095336   7.681255  ] [[  1.27436252e-06   5.63209239e-05  -1.51100730e-05]\n",
      " [  5.63209239e-05   3.07872417e-03  -7.91964899e-04]\n",
      " [ -1.51100730e-05  -7.91964899e-04   2.05316843e-04]]\n",
      "--\n",
      "p0=[0.028806400000000003, -3.6644499999999995, -0.83000000000000007] [  0.10230112 -38.04095311   7.68125494] [[  1.27436493e-06   5.63209498e-05  -1.51100817e-05]\n",
      " [  5.63209498e-05   3.07872172e-03  -7.91964321e-04]\n",
      " [ -1.51100817e-05  -7.91964321e-04   2.05316709e-04]]\n",
      "==============================\n",
      "[  0.10230112 -38.04095311   7.68125494]\n",
      "[[  1.27436493e-06   5.63209498e-05  -1.51100817e-05]\n",
      " [  5.63209498e-05   3.07872172e-03  -7.91964321e-04]\n",
      " [ -1.51100817e-05  -7.91964321e-04   2.05316709e-04]]\n"
     ]
    },
    {
     "name": "stderr",
     "output_type": "stream",
     "text": [
      "C:\\Users\\dovyd\\Anaconda3\\lib\\site-packages\\scipy\\optimize\\minpack.py:715: OptimizeWarning: Covariance of the parameters could not be estimated\n",
      "  category=OptimizeWarning)\n"
     ]
    }
   ],
   "source": [
    "import numpy as np\n",
    "import matplotlib.pyplot as plt\n",
    "from scipy.optimize import curve_fit\n",
    "\n",
    "def exp_fit(x, a, b, c):\n",
    "    return a + b * np.exp(c * x) \n",
    "\n",
    "\n",
    "x_data = transfer2[transfer2.columns[0]].values\n",
    "y_data = transfer2[transfer2.columns[1]].values\n",
    "\n",
    "#print(x_data)\n",
    "#print(y_data)\n",
    "\n",
    "\n",
    "# popt, pcov = curve_fit(exp_fit, x_data, y_data)\n",
    "\n",
    "# print(popt, pcov)\n",
    "\n",
    "\n",
    "x = x_data\n",
    "y = y_data\n",
    "\n",
    "\n",
    "def func(x, b, c, d):\n",
    "  return (b/(1.0+np.exp(-(c+d*x))))\n",
    "\n",
    "# def func(x, a, b, c):\n",
    "#     return a + b * np.exp(c * x) \n",
    "\n",
    "popt, pcov = curve_fit(func,x,y, p0=[1.38577 , -200 , -12.598])\n",
    "print(popt, pcov)\n",
    "x_spread = x.max() - x.min()\n",
    "y_spread = y.max()\n",
    "x_shift = x.mean()\n",
    "b_init = y_spread\n",
    "d_init = -x_spread\n",
    "c_init = d_init*x_shift\n",
    "\n",
    "print([b_init, c_init, d_init])\n",
    "\n",
    "popt, pcov = curve_fit(func,x,y)\n",
    "print(popt, pcov)\n",
    "popt, pcov = curve_fit(func,x,y, p0=[0.5, 0.5, 0.5])\n",
    "print(\"p0=%s\" % [0.5, 0.5, 0.5], popt, pcov)\n",
    "\n",
    "popt, pcov = curve_fit(func,x,y, p0=[b_init, c_init, d_init])\n",
    "\n",
    "\n",
    "\n",
    "print('--')\n",
    "print(\"p0=%s\" % [b_init, c_init, d_init], popt, pcov)\n",
    "\n",
    "print('{:=^30}'.format(''))\n",
    "print(popt)\n",
    "print(pcov)\n",
    "\n",
    "\n"
   ]
  },
  {
   "cell_type": "code",
   "execution_count": 22,
   "metadata": {
    "collapsed": false
   },
   "outputs": [],
   "source": [
    "fig =plt.figure()\n",
    "axes = fig.add_subplot(111)\n",
    "\n",
    "axes.plot(x_data, y_data,'g', lw=1, label=\"Ismatuota kreive\")\n",
    "axes.plot(x_data, func(x_data, *popt),'b--',lw=3, label=\"$y=a+b \\cdot\\exp{(cx)}$\")\n",
    "axes.legend(loc=2)\n",
    "axes.set_title('Hi')\n",
    "axes.grid()\n",
    "\n",
    "\n",
    "# axes\n",
    "# axes.set_xlabel(r'\\textit{Itampa} (V)',fontsize=12)\n",
    "\n",
    "\n",
    "plt.savefig('transfer-t2-fit.png')\n",
    "\n",
    "plt.show()\n"
   ]
  },
  {
   "cell_type": "code",
   "execution_count": null,
   "metadata": {
    "collapsed": false
   },
   "outputs": [],
   "source": []
  }
 ],
 "metadata": {
  "anaconda-cloud": {},
  "kernelspec": {
   "display_name": "Python 3",
   "language": "python",
   "name": "python3"
  },
  "language_info": {
   "codemirror_mode": {
    "name": "ipython",
    "version": 3
   },
   "file_extension": ".py",
   "mimetype": "text/x-python",
   "name": "python",
   "nbconvert_exporter": "python",
   "pygments_lexer": "ipython3",
   "version": "3.5.2"
  }
 },
 "nbformat": 4,
 "nbformat_minor": 0
}
