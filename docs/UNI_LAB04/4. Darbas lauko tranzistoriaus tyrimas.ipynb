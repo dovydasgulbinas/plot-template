{
 "cells": [
  {
   "cell_type": "markdown",
   "metadata": {},
   "source": [
    "# 5. Rezultatų aptarimas"
   ]
  },
  {
   "cell_type": "markdown",
   "metadata": {},
   "source": [
    "## II - tranzistoriaus grafikai ir duomenys\n",
    "\n",
    "![2 pav. ](graph_output/tr2-iesjimo.png)\n",
    "\n",
    "\n",
    "Skaičiai nuo 1-7 (atitinkamai) lygūs šioms $U_{SG}$ vertėms: $U_{SG}=$ 4.40, 4.47, 4.54, 4.62, 4.69, 4.76, 4.83 V\n",
    "\n",
    "\n",
    "\n",
    "\n",
    "![3 pav. ](graph_output/tr2-perdavimo.png)\n",
    "\n",
    "\n",
    "Rasti lygties $y=a+b \\cdot\\exp{(cx)}$ koeficientai: $a = $, $b= $, $c= $\n"
   ]
  },
  {
   "cell_type": "markdown",
   "metadata": {},
   "source": []
  }
 ],
 "metadata": {
  "kernelspec": {
   "display_name": "Python 3",
   "language": "python",
   "name": "python3"
  },
  "language_info": {
   "codemirror_mode": {
    "name": "ipython",
    "version": 3
   },
   "file_extension": ".py",
   "mimetype": "text/x-python",
   "name": "python",
   "nbconvert_exporter": "python",
   "pygments_lexer": "ipython3",
   "version": "3.5.2"
  }
 },
 "nbformat": 4,
 "nbformat_minor": 0
}
