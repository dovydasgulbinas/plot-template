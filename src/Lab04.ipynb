{
 "cells": [
  {
   "cell_type": "code",
   "execution_count": 1,
   "metadata": {
    "collapsed": false
   },
   "outputs": [
    {
     "data": {
      "text/plain": [
       "198"
      ]
     },
     "execution_count": 1,
     "metadata": {},
     "output_type": "execute_result"
    }
   ],
   "source": [
    "99+99"
   ]
  },
  {
   "cell_type": "code",
   "execution_count": 2,
   "metadata": {
    "collapsed": false
   },
   "outputs": [
    {
     "name": "stdout",
     "output_type": "stream",
     "text": [
      "Using matplotlib backend: Qt5Agg\n"
     ]
    }
   ],
   "source": [
    "# -*- coding: utf-8 -*-\n",
    "import pandas\n",
    "import matplotlib\n",
    "import matplotlib.pyplot as plt\n",
    "import numpy as np\n",
    "import matplotlib.animation as animation\n",
    "\n",
    "%matplotlib"
   ]
  },
  {
   "cell_type": "code",
   "execution_count": null,
   "metadata": {
    "collapsed": false
   },
   "outputs": [],
   "source": [
    "# Usd=25.00E+0V\n",
    "transfer2 = pandas.read_csv('transfer-t2-g13-cleaned.csv', sep=',')\n",
    "\n",
    "# Usg=4.40E+0V Usg=4.47E+0V Usg=4.54E+0V Usg=4.62E+0V Usg=4.69E+0V Usg=4.76E+0V Usg=4.83E+0V\n",
    "output2 = pandas.read_csv('output-t2-g13-cleaned.csv', sep = ',')\n"
   ]
  },
  {
   "cell_type": "markdown",
   "metadata": {},
   "source": [
    "## Antrojo tranzistoriaus perdavimo/išėjimo charakteristikos"
   ]
  },
  {
   "cell_type": "code",
   "execution_count": null,
   "metadata": {
    "collapsed": false
   },
   "outputs": [],
   "source": [
    "transfer2.head()"
   ]
  },
  {
   "cell_type": "markdown",
   "metadata": {},
   "source": [
    "# II -- trojo tranzistoriaus perdavimo kreivės"
   ]
  },
  {
   "cell_type": "code",
   "execution_count": null,
   "metadata": {
    "collapsed": false
   },
   "outputs": [],
   "source": [
    "output2.head(5)"
   ]
  },
  {
   "cell_type": "code",
   "execution_count": null,
   "metadata": {
    "collapsed": false
   },
   "outputs": [],
   "source": [
    "\n",
    "fig = plt.figure()\n",
    "\n",
    "# Allows to render graph data in latex\n",
    "plt.rc('text', usetex=True)\n",
    "plt.rc('font', family='DejaVu Sans')\n",
    "\n",
    "# figure yra pats grafikas be duomenu axes yra kreives kurias piesiame\n",
    "axes = fig.add_subplot(111)\n",
    "axes.grid()\n",
    "axes.plot(transfer2['Usg (V)'],\n",
    "          transfer2['Isd (I)'],\n",
    "          color = \"blue\",\n",
    "          linestyle = \"-\",\n",
    "          linewidth = 2,\n",
    "          label='HOMO',\n",
    "          markersize = 9)\n",
    "\n",
    "\n",
    "axes.set_title('Perdavimo charakteristikos priklausomybe nuo itampos', fontsize=12)\n",
    "axes.set_ylabel(r'\\textit{Srove} (A)',fontsize=12)\n",
    "axes.set_xlabel(r'\\textit{Itampa} (V)',fontsize=12)\n",
    "\n",
    "plt.savefig('transfer-t1.png')\n"
   ]
  },
  {
   "cell_type": "code",
   "execution_count": null,
   "metadata": {
    "collapsed": false
   },
   "outputs": [],
   "source": [
    "fig2 = plt.figure()\n",
    "\n",
    "#Allows to render graph data in latex\n",
    "plt.rc('text', usetex=True)\n",
    "plt.rc('font', family='DejaVu Sans')\n",
    "\n",
    "# figure yra pats grafikas be duomenu axes yra kreives kurias piesiame\n",
    "axes = fig2.add_subplot(111)\n",
    "axes.grid()\n",
    "\n",
    "\n",
    "x = output2[output2.columns[0]]\n",
    "y = output2[output2.columns[1]]\n",
    "title = 'Perdavimo charakteristiku priklausomybe nuo itampos'\n",
    "x_label = r'\\textit{Itampa} (V)'\n",
    "y_label = r'\\textit{Srove} (A)'\n",
    "\n",
    "\n",
    "for i in range(1, 8):\n",
    "    x = output2[output2.columns[0]]\n",
    "    y = output2[output2.columns[i]]\n",
    "    \n",
    "    axes.plot(x, y,linestyle = \"-\", linewidth = 2, label=str(8-i), markersize = 9)\n",
    "\n",
    "\n",
    "axes.legend(loc=2)\n",
    "axes.set_title(title, fontsize=12)\n",
    "axes.set_xlabel(x_label,fontsize=12)\n",
    "axes.set_ylabel(y_label,fontsize=12)\n",
    "\n",
    "plt.savefig('output-t2.png')"
   ]
  },
  {
   "cell_type": "code",
   "execution_count": null,
   "metadata": {
    "collapsed": false
   },
   "outputs": [],
   "source": [
    "import numpy as np\n",
    "import matplotlib.pyplot as plt\n",
    "from scipy.optimize import curve_fit\n",
    "\n",
    "def exp_fit(x, a, b, c):\n",
    "    return a + b * np.exp(c * x) \n",
    "\n",
    "\n",
    "x_data = transfer2[transfer2.columns[0]].values\n",
    "y_data = transfer2[transfer2.columns[1]].values\n",
    "\n",
    "#print(x_data)\n",
    "#print(y_data)\n",
    "\n",
    "\n",
    "# popt, pcov = curve_fit(exp_fit, x_data, y_data)\n",
    "\n",
    "# print(popt, pcov)\n",
    "\n",
    "\n",
    "x = x_data\n",
    "y = y_data\n",
    "\n",
    "\n",
    "def func(x, b, c, d):\n",
    "  return (b/(1.0+np.exp(-(c+d*x))))\n",
    "\n",
    "# def func(x, a, b, c):\n",
    "#     return a + b * np.exp(c * x) \n",
    "\n",
    "popt, pcov = curve_fit(func,x,y, p0=[1.38577 , -200 , -12.598])\n",
    "print(popt, pcov)\n",
    "x_spread = x.max() - x.min()\n",
    "y_spread = y.max()\n",
    "x_shift = x.mean()\n",
    "b_init = y_spread\n",
    "d_init = -x_spread\n",
    "c_init = d_init*x_shift\n",
    "\n",
    "print([b_init, c_init, d_init])\n",
    "\n",
    "popt, pcov = curve_fit(func,x,y)\n",
    "print(popt, pcov)\n",
    "popt, pcov = curve_fit(func,x,y, p0=[0.5, 0.5, 0.5])\n",
    "print(\"p0=%s\" % [0.5, 0.5, 0.5], popt, pcov)\n",
    "\n",
    "popt, pcov = curve_fit(func,x,y, p0=[b_init, c_init, d_init])\n",
    "\n",
    "\n",
    "\n",
    "print('--')\n",
    "print(\"p0=%s\" % [b_init, c_init, d_init], popt, pcov)\n",
    "\n",
    "print('{:=^30}'.format(''))\n",
    "print(popt)\n",
    "print(pcov)\n",
    "\n",
    "\n"
   ]
  },
  {
   "cell_type": "code",
   "execution_count": null,
   "metadata": {
    "collapsed": false
   },
   "outputs": [],
   "source": [
    "fig =plt.figure()\n",
    "axes = fig.add_subplot(111)\n",
    "\n",
    "axes.plot(x_data, y_data,'g', lw=1, label=\"Ismatuota kreive\")\n",
    "axes.plot(x_data, func(x_data, *popt),'b--',lw=3, label=\"$y=a+b \\cdot\\exp{(cx)}$\")\n",
    "axes.legend(loc=2)\n",
    "axes.set_title('Hi')\n",
    "axes.grid()\n",
    "\n",
    "\n",
    "# axes\n",
    "# axes.set_xlabel(r'\\textit{Itampa} (V)',fontsize=12)\n",
    "\n",
    "\n",
    "plt.savefig('transfer-t2-fit.png')\n",
    "\n",
    "plt.show()\n"
   ]
  },
  {
   "cell_type": "code",
   "execution_count": null,
   "metadata": {
    "collapsed": false
   },
   "outputs": [],
   "source": []
  }
 ],
 "metadata": {
  "anaconda-cloud": {},
  "kernelspec": {
   "display_name": "Python [default]",
   "language": "python",
   "name": "python3"
  },
  "language_info": {
   "codemirror_mode": {
    "name": "ipython",
    "version": 3
   },
   "file_extension": ".py",
   "mimetype": "text/x-python",
   "name": "python",
   "nbconvert_exporter": "python",
   "pygments_lexer": "ipython3",
   "version": "3.5.2"
  }
 },
 "nbformat": 4,
 "nbformat_minor": 0
}
